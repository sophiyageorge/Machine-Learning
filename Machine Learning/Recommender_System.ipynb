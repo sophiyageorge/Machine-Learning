{
 "cells": [
  {
   "cell_type": "markdown",
   "id": "6e5840e0",
   "metadata": {},
   "source": [
    "Collaborative Filtering (User-Based)"
   ]
  },
  {
   "cell_type": "code",
   "execution_count": 1,
   "id": "eec4e8e7",
   "metadata": {},
   "outputs": [
    {
     "name": "stderr",
     "output_type": "stream",
     "text": [
      "C:\\Users\\acer\\anaconda3\\Lib\\site-packages\\pandas\\core\\arrays\\masked.py:60: UserWarning: Pandas requires version '1.3.6' or newer of 'bottleneck' (version '1.3.5' currently installed).\n",
      "  from pandas.core import (\n"
     ]
    }
   ],
   "source": [
    "import pandas as pd\n",
    "from sklearn.metrics.pairwise import cosine_similarity\n",
    "\n",
    "data = {\n",
    "    'Inception':[5,4,0,0],\n",
    "    'Titanic':[4,5,0,1],\n",
    "    'Avatar':[0,0,5,4],\n",
    "    'Matrix':[0,1,4,5]\n",
    "}"
   ]
  },
  {
   "cell_type": "code",
   "execution_count": 2,
   "id": "007d78bc",
   "metadata": {},
   "outputs": [],
   "source": [
    "df = pd.DataFrame(data,index=['User1','User2','User3','User4'])\n",
    "\n",
    "similarity = cosine_similarity(df)\n",
    "similar_users = pd.DataFrame(similarity,index=df.index,columns=df.index)"
   ]
  },
  {
   "cell_type": "code",
   "execution_count": 3,
   "id": "d260cdbc",
   "metadata": {},
   "outputs": [
    {
     "data": {
      "text/plain": [
       "array([[1.        , 0.96392539, 0.        , 0.09639254],\n",
       "       [0.96392539, 1.        , 0.09639254, 0.23809524],\n",
       "       [0.        , 0.09639254, 1.        , 0.96392539],\n",
       "       [0.09639254, 0.23809524, 0.96392539, 1.        ]])"
      ]
     },
     "execution_count": 3,
     "metadata": {},
     "output_type": "execute_result"
    }
   ],
   "source": [
    "similarity"
   ]
  },
  {
   "cell_type": "code",
   "execution_count": 4,
   "id": "ac56cd0c",
   "metadata": {},
   "outputs": [
    {
     "data": {
      "text/html": [
       "<div>\n",
       "<style scoped>\n",
       "    .dataframe tbody tr th:only-of-type {\n",
       "        vertical-align: middle;\n",
       "    }\n",
       "\n",
       "    .dataframe tbody tr th {\n",
       "        vertical-align: top;\n",
       "    }\n",
       "\n",
       "    .dataframe thead th {\n",
       "        text-align: right;\n",
       "    }\n",
       "</style>\n",
       "<table border=\"1\" class=\"dataframe\">\n",
       "  <thead>\n",
       "    <tr style=\"text-align: right;\">\n",
       "      <th></th>\n",
       "      <th>User1</th>\n",
       "      <th>User2</th>\n",
       "      <th>User3</th>\n",
       "      <th>User4</th>\n",
       "    </tr>\n",
       "  </thead>\n",
       "  <tbody>\n",
       "    <tr>\n",
       "      <th>User1</th>\n",
       "      <td>1.000000</td>\n",
       "      <td>0.963925</td>\n",
       "      <td>0.000000</td>\n",
       "      <td>0.096393</td>\n",
       "    </tr>\n",
       "    <tr>\n",
       "      <th>User2</th>\n",
       "      <td>0.963925</td>\n",
       "      <td>1.000000</td>\n",
       "      <td>0.096393</td>\n",
       "      <td>0.238095</td>\n",
       "    </tr>\n",
       "    <tr>\n",
       "      <th>User3</th>\n",
       "      <td>0.000000</td>\n",
       "      <td>0.096393</td>\n",
       "      <td>1.000000</td>\n",
       "      <td>0.963925</td>\n",
       "    </tr>\n",
       "    <tr>\n",
       "      <th>User4</th>\n",
       "      <td>0.096393</td>\n",
       "      <td>0.238095</td>\n",
       "      <td>0.963925</td>\n",
       "      <td>1.000000</td>\n",
       "    </tr>\n",
       "  </tbody>\n",
       "</table>\n",
       "</div>"
      ],
      "text/plain": [
       "          User1     User2     User3     User4\n",
       "User1  1.000000  0.963925  0.000000  0.096393\n",
       "User2  0.963925  1.000000  0.096393  0.238095\n",
       "User3  0.000000  0.096393  1.000000  0.963925\n",
       "User4  0.096393  0.238095  0.963925  1.000000"
      ]
     },
     "execution_count": 4,
     "metadata": {},
     "output_type": "execute_result"
    }
   ],
   "source": [
    "similar_users"
   ]
  },
  {
   "cell_type": "markdown",
   "id": "ca71c01b",
   "metadata": {},
   "source": [
    "Content-Based Filtering"
   ]
  },
  {
   "cell_type": "markdown",
   "id": "10c94a07",
   "metadata": {},
   "source": [
    "Scenario:\n",
    "\n",
    "Each item (e.g., movie) has features (e.g., genre, keywords).\n",
    "\n",
    "Recommend items similar to what the user liked based on content."
   ]
  },
  {
   "cell_type": "code",
   "execution_count": 5,
   "id": "4fd0dc08",
   "metadata": {},
   "outputs": [],
   "source": [
    "from sklearn.feature_extraction.text import TfidfVectorizer\n",
    "from sklearn.metrics.pairwise import cosine_similarity\n",
    "\n",
    "# Sample movie descriptions\n",
    "movies = {\n",
    "    'Inception': \"sci-fi dream thriller\",\n",
    "    'Matrix': \"sci-fi AI action\",\n",
    "    'Titanic': \"romance drama ship\",\n",
    "    'Notebook': \"romance drama love\"\n",
    "}\n",
    "\n",
    "# TF-IDF vectorization\n",
    "tfidf = TfidfVectorizer()\n",
    "tfidf_matrix = tfidf.fit_transform(movies.values())\n",
    "\n",
    "# Find similarity\n",
    "cosine_sim = cosine_similarity(tfidf_matrix)\n",
    "\n",
    "# Recommend movies similar to 'Titanic'\n",
    "movie_index = list(movies.keys()).index('Titanic')\n",
    "similarities = cosine_sim[movie_index]\n",
    "\n",
    "# Recommend highest scoring similar movies\n",
    "recommend_indices = similarities.argsort()[::-1][1:3]\n",
    "recommended_movies = [list(movies.keys())[i] for i in recommend_indices]\n"
   ]
  },
  {
   "cell_type": "code",
   "execution_count": 6,
   "id": "3f0b12b5",
   "metadata": {},
   "outputs": [
    {
     "data": {
      "text/plain": [
       "['Notebook', 'Matrix']"
      ]
     },
     "execution_count": 6,
     "metadata": {},
     "output_type": "execute_result"
    }
   ],
   "source": [
    "recommended_movies"
   ]
  },
  {
   "cell_type": "markdown",
   "id": "de10721d",
   "metadata": {},
   "source": [
    " Idea: Recommend movies with similar features/description to those the user liked."
   ]
  },
  {
   "cell_type": "markdown",
   "id": "561ebeef",
   "metadata": {},
   "source": [
    "  "
   ]
  },
  {
   "cell_type": "markdown",
   "id": "8b0d30e1",
   "metadata": {},
   "source": [
    "  "
   ]
  },
  {
   "cell_type": "markdown",
   "id": "7700ef2e",
   "metadata": {},
   "source": [
    " Hybrid Method (Weighted Combination)"
   ]
  },
  {
   "cell_type": "code",
   "execution_count": 8,
   "id": "a9165b73",
   "metadata": {},
   "outputs": [],
   "source": [
    "# Assume you already have scores from both methods\n",
    "collaborative_scores = {'Inception': 0.9, 'Matrix': 0.8, 'Titanic': 0.2}\n",
    "content_scores = {'Inception': 0.7, 'Matrix': 0.6, 'Titanic': 0.9}\n",
    "\n",
    "# Weighted sum of scores\n",
    "hybrid_scores = {}\n",
    "for movie in collaborative_scores:\n",
    "    hybrid_scores[movie] = 0.5 * collaborative_scores[movie] + 0.5 * content_scores[movie]\n",
    "\n",
    "# Recommend top movie\n",
    "recommended = sorted(hybrid_scores.items(), key=lambda x: x[1], reverse=True)\n"
   ]
  },
  {
   "cell_type": "code",
   "execution_count": 9,
   "id": "97d8cff5",
   "metadata": {},
   "outputs": [
    {
     "data": {
      "text/plain": [
       "[('Inception', 0.8), ('Matrix', 0.7), ('Titanic', 0.55)]"
      ]
     },
     "execution_count": 9,
     "metadata": {},
     "output_type": "execute_result"
    }
   ],
   "source": [
    "recommended "
   ]
  }
 ],
 "metadata": {
  "kernelspec": {
   "display_name": "Python 3 (ipykernel)",
   "language": "python",
   "name": "python3"
  },
  "language_info": {
   "codemirror_mode": {
    "name": "ipython",
    "version": 3
   },
   "file_extension": ".py",
   "mimetype": "text/x-python",
   "name": "python",
   "nbconvert_exporter": "python",
   "pygments_lexer": "ipython3",
   "version": "3.11.5"
  }
 },
 "nbformat": 4,
 "nbformat_minor": 5
}
