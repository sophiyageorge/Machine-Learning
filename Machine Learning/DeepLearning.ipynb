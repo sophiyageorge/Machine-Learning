{
 "cells": [
  {
   "cell_type": "code",
   "execution_count": 3,
   "id": "3ea0d98a",
   "metadata": {},
   "outputs": [
    {
     "name": "stdout",
     "output_type": "stream",
     "text": [
      "WARNING:tensorflow:From C:\\Users\\acer\\anaconda3\\Lib\\site-packages\\keras\\src\\losses.py:2976: The name tf.losses.sparse_softmax_cross_entropy is deprecated. Please use tf.compat.v1.losses.sparse_softmax_cross_entropy instead.\n",
      "\n"
     ]
    }
   ],
   "source": [
    "import tensorflow as tf\n"
   ]
  },
  {
   "cell_type": "code",
   "execution_count": 4,
   "id": "de55e5b0",
   "metadata": {},
   "outputs": [
    {
     "name": "stdout",
     "output_type": "stream",
     "text": [
      "tf.Tensor(7, shape=(), dtype=int32)\n"
     ]
    }
   ],
   "source": [
    "a=tf.constant(3)\n",
    "b=tf.constant(4)\n",
    "c= a+b\n",
    "print(c)"
   ]
  },
  {
   "cell_type": "markdown",
   "id": "8759dd79",
   "metadata": {},
   "source": [
    "Layers and models"
   ]
  },
  {
   "cell_type": "code",
   "execution_count": 6,
   "id": "434e250e",
   "metadata": {},
   "outputs": [],
   "source": [
    "from tensorflow.keras import Sequential \n",
    "from tensorflow.keras.layers import Dense\n",
    "\n",
    "model = Sequential([\n",
    "    Dense(10,activation='relu',input_shape=(5,)),\n",
    "    Dense(1)  # each Dense layer represents a fully connected layer in a neural network\n",
    "])"
   ]
  },
  {
   "cell_type": "markdown",
   "id": "a7829e39",
   "metadata": {},
   "source": [
    "Compilation and Training"
   ]
  },
  {
   "cell_type": "code",
   "execution_count": 7,
   "id": "a8847a54",
   "metadata": {},
   "outputs": [
    {
     "name": "stdout",
     "output_type": "stream",
     "text": [
      "WARNING:tensorflow:From C:\\Users\\acer\\anaconda3\\Lib\\site-packages\\keras\\src\\optimizers\\__init__.py:309: The name tf.train.Optimizer is deprecated. Please use tf.compat.v1.train.Optimizer instead.\n",
      "\n"
     ]
    }
   ],
   "source": [
    "model.compile(optimizer='adam',loss='mse')\n",
    "#optimizer adjusts weights (eg:Adam,SGD)\n",
    "# loss Measures model error(eg:Mean Squared Error)\n"
   ]
  },
  {
   "cell_type": "code",
   "execution_count": 8,
   "id": "58aec540",
   "metadata": {},
   "outputs": [
    {
     "name": "stdout",
     "output_type": "stream",
     "text": [
      "Epoch 1/10\n",
      "WARNING:tensorflow:From C:\\Users\\acer\\anaconda3\\Lib\\site-packages\\keras\\src\\utils\\tf_utils.py:492: The name tf.ragged.RaggedTensorValue is deprecated. Please use tf.compat.v1.ragged.RaggedTensorValue instead.\n",
      "\n",
      "4/4 [==============================] - 1s 6ms/step - loss: 0.2869\n",
      "Epoch 2/10\n",
      "4/4 [==============================] - 0s 2ms/step - loss: 0.2525\n",
      "Epoch 3/10\n",
      "4/4 [==============================] - 0s 4ms/step - loss: 0.2243\n",
      "Epoch 4/10\n",
      "4/4 [==============================] - 0s 5ms/step - loss: 0.2024\n",
      "Epoch 5/10\n",
      "4/4 [==============================] - 0s 3ms/step - loss: 0.1848\n",
      "Epoch 6/10\n",
      "4/4 [==============================] - 0s 4ms/step - loss: 0.1734\n",
      "Epoch 7/10\n",
      "4/4 [==============================] - 0s 5ms/step - loss: 0.1649\n",
      "Epoch 8/10\n",
      "4/4 [==============================] - 0s 5ms/step - loss: 0.1600\n",
      "Epoch 9/10\n",
      "4/4 [==============================] - 0s 5ms/step - loss: 0.1556\n",
      "Epoch 10/10\n",
      "4/4 [==============================] - 0s 4ms/step - loss: 0.1532\n"
     ]
    },
    {
     "data": {
      "text/plain": [
       "<keras.src.callbacks.History at 0x2c6c3e01bd0>"
      ]
     },
     "execution_count": 8,
     "metadata": {},
     "output_type": "execute_result"
    }
   ],
   "source": [
    "import numpy as np\n",
    "X= np.random.rand(100,5)\n",
    "y=np.random.rand(100,1)\n",
    "\n",
    "model.fit(X,y,epochs=10\n",
    "         )"
   ]
  },
  {
   "cell_type": "code",
   "execution_count": 11,
   "id": "861c91dc",
   "metadata": {},
   "outputs": [
    {
     "name": "stdout",
     "output_type": "stream",
     "text": [
      "[[3.78436492e-01 2.73318671e-01 4.95823669e-01 9.61033434e-01\n",
      "  8.31135451e-01]\n",
      " [6.42115945e-01 7.20632785e-01 8.99515548e-02 3.18356382e-01\n",
      "  1.10811880e-01]\n",
      " [2.97991930e-01 3.60677668e-01 9.46166253e-01 2.99156757e-01\n",
      "  8.36943097e-01]\n",
      " [1.16837912e-01 9.34910329e-01 7.68001073e-01 3.16560814e-01\n",
      "  2.52814816e-01]\n",
      " [8.69328494e-01 9.25253845e-01 7.05880919e-01 3.26088113e-01\n",
      "  1.65445816e-01]\n",
      " [6.94905772e-02 6.61016400e-01 5.16364630e-01 5.14325035e-03\n",
      "  7.44151762e-01]\n",
      " [3.39443676e-01 7.23485408e-01 7.21938808e-01 8.46407379e-02\n",
      "  7.73131623e-01]\n",
      " [3.38872853e-01 3.71039322e-01 7.48224611e-01 4.69796189e-01\n",
      "  4.10851967e-01]\n",
      " [5.98040134e-02 1.65756800e-01 3.89160369e-01 6.40526982e-01\n",
      "  3.57743060e-01]\n",
      " [7.61896228e-01 9.81680024e-01 4.23334386e-01 3.64395434e-01\n",
      "  7.20698106e-01]\n",
      " [2.08007077e-01 5.18448881e-01 6.76933094e-01 7.85644707e-01\n",
      "  7.38730606e-01]\n",
      " [2.66014357e-01 5.02797887e-01 3.58998855e-01 8.59976272e-01\n",
      "  7.03604662e-01]\n",
      " [8.44495681e-01 2.43111356e-01 5.24996880e-01 4.11059703e-01\n",
      "  9.34534902e-02]\n",
      " [5.71604701e-02 2.11764776e-01 2.28689962e-01 2.62589786e-01\n",
      "  4.08572912e-01]\n",
      " [5.71942987e-01 5.21459320e-02 4.20437085e-01 5.83970275e-01\n",
      "  6.94502360e-01]\n",
      " [4.32114555e-01 3.68792750e-01 8.44536517e-01 3.40251895e-01\n",
      "  9.05651420e-01]\n",
      " [4.75191311e-01 8.69382179e-01 9.33879923e-01 1.47802530e-01\n",
      "  8.33405339e-01]\n",
      " [4.82415443e-01 4.73880828e-01 5.91100541e-01 2.73298825e-01\n",
      "  9.59137413e-01]\n",
      " [7.55269088e-01 2.85693831e-01 5.73047034e-01 9.82506051e-01\n",
      "  6.36695057e-01]\n",
      " [8.82187609e-01 4.44206501e-01 4.60082058e-01 6.41297142e-01\n",
      "  8.08131075e-01]\n",
      " [6.98648453e-01 3.47374259e-01 6.88699202e-01 8.23048740e-01\n",
      "  1.80867726e-01]\n",
      " [3.40150658e-01 4.87043885e-01 4.35247870e-02 8.73853009e-01\n",
      "  1.26159418e-01]\n",
      " [1.64665955e-01 8.57522502e-01 6.05645202e-01 9.84745980e-01\n",
      "  9.36158762e-01]\n",
      " [5.23515094e-01 3.99787942e-01 5.89911699e-01 6.42115869e-01\n",
      "  2.25356381e-01]\n",
      " [9.22544379e-01 7.40298777e-01 9.18577753e-01 4.58557663e-01\n",
      "  2.67427805e-01]\n",
      " [8.73863266e-01 1.11080746e-01 6.67824570e-01 4.99428760e-01\n",
      "  4.67712116e-01]\n",
      " [9.82954372e-01 8.95065251e-01 8.52800722e-01 8.35829049e-01\n",
      "  5.37674341e-01]\n",
      " [8.08423247e-01 6.32096516e-01 8.33091716e-01 5.57137302e-01\n",
      "  8.38075932e-01]\n",
      " [7.92842388e-01 2.75299286e-01 7.85005800e-03 2.86183082e-01\n",
      "  9.45427804e-01]\n",
      " [9.44943978e-01 8.18419941e-01 6.99211474e-01 5.38305039e-01\n",
      "  9.43533705e-01]\n",
      " [8.38234799e-01 9.90045675e-01 1.24169435e-01 8.70612215e-01\n",
      "  2.22836843e-01]\n",
      " [5.43444529e-01 4.96027576e-01 1.71635132e-02 9.21279542e-02\n",
      "  6.95652435e-01]\n",
      " [7.03922337e-01 7.15269711e-01 7.83384257e-01 8.82780439e-01\n",
      "  1.38419939e-01]\n",
      " [5.20376383e-01 2.68882054e-01 8.37774797e-01 6.89147422e-01\n",
      "  1.26930701e-01]\n",
      " [5.14890790e-01 6.91573335e-01 9.17394000e-01 7.62089655e-01\n",
      "  3.52977909e-01]\n",
      " [6.33703423e-01 5.95220333e-01 5.85686873e-01 4.12068754e-01\n",
      "  1.95883646e-01]\n",
      " [5.12552357e-01 4.02825884e-02 1.52265939e-01 9.26524423e-01\n",
      "  5.30934800e-01]\n",
      " [5.23476276e-02 5.70205820e-01 7.56248496e-01 9.09912490e-01\n",
      "  9.09453218e-01]\n",
      " [8.62303793e-02 8.63896966e-02 6.11166135e-01 4.14657116e-01\n",
      "  6.47307802e-01]\n",
      " [6.43668498e-01 5.14361475e-02 8.56467201e-01 3.31755363e-01\n",
      "  4.25521192e-01]\n",
      " [8.65925229e-01 7.07523083e-01 6.33408040e-01 2.87882623e-01\n",
      "  1.08333560e-01]\n",
      " [8.25075413e-01 6.51456102e-02 4.10306954e-01 8.90408760e-01\n",
      "  4.93058769e-01]\n",
      " [7.96890020e-01 9.33161199e-04 6.05320680e-01 1.84808128e-02\n",
      "  4.13585065e-01]\n",
      " [8.38323189e-01 5.74641580e-01 1.88701137e-01 4.09512867e-01\n",
      "  7.13132838e-01]\n",
      " [9.33351811e-01 4.57829842e-02 3.62304144e-01 8.32118240e-01\n",
      "  3.36020756e-02]\n",
      " [5.81178991e-01 5.13479954e-01 4.97735383e-01 5.39265970e-01\n",
      "  2.44655891e-01]\n",
      " [6.46158878e-01 4.12189625e-01 3.81028385e-01 7.71496969e-01\n",
      "  8.82858276e-01]\n",
      " [5.58036986e-01 5.69924615e-01 5.82540060e-01 8.35118424e-01\n",
      "  7.33247476e-01]\n",
      " [8.04959807e-01 6.07925166e-01 5.49546173e-01 4.02394819e-01\n",
      "  7.86599830e-01]\n",
      " [7.13095370e-01 7.20311674e-01 1.88726293e-01 6.29809710e-01\n",
      "  3.78579635e-01]\n",
      " [6.07773671e-01 2.85582634e-01 4.28603355e-01 6.65028035e-02\n",
      "  2.45530883e-01]\n",
      " [3.73473494e-01 9.63768280e-01 7.75307883e-01 7.10161433e-01\n",
      "  1.89855124e-01]\n",
      " [8.63895631e-01 3.46711556e-01 3.43088278e-01 2.53425604e-01\n",
      "  3.20332082e-01]\n",
      " [6.54027071e-01 8.31338843e-01 9.28839411e-01 8.62872973e-02\n",
      "  9.20230195e-01]\n",
      " [1.62957253e-01 7.81773487e-01 4.10103076e-01 4.17303063e-01\n",
      "  6.22716243e-01]\n",
      " [5.82086199e-02 4.34324936e-01 1.99383304e-01 4.71889869e-01\n",
      "  6.02167638e-02]\n",
      " [8.19876317e-01 3.50244665e-01 7.63269162e-01 7.47488912e-01\n",
      "  1.62673132e-02]\n",
      " [4.29001789e-01 2.41083221e-01 8.01491287e-01 3.56096131e-01\n",
      "  5.26555390e-01]\n",
      " [8.53337658e-01 4.76743399e-01 9.48218850e-02 8.97214028e-01\n",
      "  1.27745857e-01]\n",
      " [5.19597809e-01 3.68035643e-01 5.69131629e-01 5.03812963e-01\n",
      "  8.52240758e-01]\n",
      " [4.89862570e-01 5.12229755e-01 1.95465079e-01 6.10924926e-01\n",
      "  2.98279810e-01]\n",
      " [4.06011057e-01 7.07349132e-01 2.11328120e-01 5.81682361e-01\n",
      "  6.70961571e-01]\n",
      " [2.86886912e-01 3.50353339e-01 6.24337615e-01 9.09074730e-01\n",
      "  4.89417934e-01]\n",
      " [4.34137525e-02 9.38855247e-01 6.60410289e-01 5.64789787e-01\n",
      "  1.94611924e-01]\n",
      " [2.30243863e-01 5.55190255e-01 5.12460112e-01 1.60971757e-01\n",
      "  3.11845405e-01]\n",
      " [6.23510898e-01 3.90927622e-01 8.86862170e-01 5.97158032e-01\n",
      "  7.34681341e-01]\n",
      " [1.37046621e-01 9.66656526e-01 6.88738892e-02 9.91594233e-01\n",
      "  8.22723400e-01]\n",
      " [8.40611774e-02 4.40498654e-01 6.95854672e-01 3.99002476e-01\n",
      "  6.18656611e-01]\n",
      " [8.35472704e-01 6.18088188e-01 5.00522805e-01 5.26106371e-02\n",
      "  2.49516394e-01]\n",
      " [3.46532583e-03 4.15606052e-01 2.63011501e-01 7.79328951e-01\n",
      "  9.80929947e-01]\n",
      " [4.50113754e-01 1.63982032e-01 9.62866794e-02 9.91017871e-01\n",
      "  3.50051066e-01]\n",
      " [1.12944613e-01 7.35514597e-01 1.97274830e-01 5.08314746e-01\n",
      "  9.01021650e-01]\n",
      " [4.80349882e-01 3.76497120e-01 1.72851081e-01 9.20584399e-01\n",
      "  5.17528065e-01]\n",
      " [8.13590723e-01 3.64536577e-02 8.42228027e-01 4.92293926e-01\n",
      "  1.95505676e-01]\n",
      " [4.29887101e-02 5.29837701e-01 2.81930300e-01 8.63299183e-02\n",
      "  2.26606699e-01]\n",
      " [8.83100478e-03 8.47367646e-02 5.51946786e-01 7.42950833e-01\n",
      "  1.47290851e-01]\n",
      " [7.35744893e-01 4.40063673e-01 7.97891531e-01 4.66207550e-01\n",
      "  6.92698984e-01]\n",
      " [7.10132288e-01 5.78788504e-01 6.26958054e-01 3.97897434e-01\n",
      "  2.89051805e-01]\n",
      " [7.58431996e-01 9.50890629e-01 1.89933024e-01 8.01626700e-01\n",
      "  6.80828082e-01]\n",
      " [8.28021359e-02 4.88739540e-01 8.77076580e-01 3.20697470e-01\n",
      "  6.26177341e-01]\n",
      " [7.20172063e-01 3.95718957e-01 9.97311380e-02 9.28129870e-01\n",
      "  9.61611222e-01]\n",
      " [3.10028855e-01 9.91772114e-01 1.55207858e-01 6.05201618e-01\n",
      "  8.64541572e-01]\n",
      " [2.51592082e-01 1.68200795e-01 3.04122994e-01 4.76490269e-01\n",
      "  9.49431243e-01]\n",
      " [2.03060039e-01 6.31633764e-01 5.61942685e-01 1.49527004e-01\n",
      "  7.07898363e-01]\n",
      " [4.01816936e-01 9.97709244e-01 5.07805833e-01 6.95976806e-01\n",
      "  4.87713856e-01]\n",
      " [1.24159622e-01 5.02287803e-01 8.07681220e-01 6.09461851e-01\n",
      "  7.43640637e-01]\n",
      " [4.58632635e-01 5.99813308e-01 3.41619965e-01 6.77418379e-02\n",
      "  8.99894412e-01]\n",
      " [4.44443893e-01 8.19127336e-01 2.05993559e-01 5.89672721e-01\n",
      "  3.45957796e-01]\n",
      " [2.12815133e-01 1.17092165e-02 5.19326195e-01 1.12052515e-01\n",
      "  2.86208006e-01]\n",
      " [8.47409572e-02 9.07160112e-01 5.89361077e-01 2.84212817e-01\n",
      "  7.09546142e-01]\n",
      " [7.09073588e-01 6.81684606e-01 2.04045250e-01 4.42278403e-01\n",
      "  8.67852281e-01]\n",
      " [3.78862722e-01 7.72246595e-01 1.19288912e-01 6.15495312e-01\n",
      "  2.08645145e-01]\n",
      " [6.85120353e-01 3.31298922e-01 2.50864504e-01 4.03556412e-01\n",
      "  9.31973153e-01]\n",
      " [7.16200807e-01 7.27344120e-01 7.53446948e-01 2.26872928e-01\n",
      "  7.49729173e-01]\n",
      " [1.56669902e-01 1.61875675e-01 7.36056381e-01 4.35910986e-01\n",
      "  3.61506087e-01]\n",
      " [5.02246523e-01 2.61241654e-01 5.70351183e-01 3.25522310e-01\n",
      "  8.53187384e-01]\n",
      " [3.68207640e-01 2.26008411e-01 1.83201180e-01 4.57106141e-01\n",
      "  3.11384064e-01]\n",
      " [1.73955101e-01 6.82866101e-01 1.31321577e-01 2.84903061e-02\n",
      "  5.94435270e-01]\n",
      " [1.87466023e-01 3.40557956e-01 4.53443559e-01 2.54806936e-01\n",
      "  8.30202471e-01]\n",
      " [2.91400377e-01 1.31333686e-01 2.38822413e-01 9.98295238e-01\n",
      "  8.90567381e-01]]\n"
     ]
    }
   ],
   "source": [
    "print(X)"
   ]
  },
  {
   "cell_type": "code",
   "execution_count": 10,
   "id": "60ba455b",
   "metadata": {},
   "outputs": [
    {
     "name": "stdout",
     "output_type": "stream",
     "text": [
      "1/1 [==============================] - 0s 20ms/step\n",
      "New input data: \n",
      " [[0.7673098  0.4721237  0.13733262 0.81718522 0.40240104]\n",
      " [0.43082603 0.04362743 0.05435899 0.83340319 0.37898897]\n",
      " [0.14169221 0.75865385 0.80054019 0.02969213 0.61803096]]\n",
      "predictions:\n",
      " [[0.50934815]\n",
      " [0.11900477]\n",
      " [0.48258978]]\n"
     ]
    }
   ],
   "source": [
    "new_data = np.random.rand(3,5)\n",
    "\n",
    "# predict using the trained model\n",
    "predictions = model.predict(new_data)\n",
    "\n",
    "print(\"New input data: \\n\",new_data)\n",
    "print(\"predictions:\\n\",predictions)"
   ]
  },
  {
   "cell_type": "markdown",
   "id": "f0170a23",
   "metadata": {},
   "source": [
    "Binary classification Neural Network"
   ]
  },
  {
   "cell_type": "code",
   "execution_count": 13,
   "id": "3384264f",
   "metadata": {},
   "outputs": [],
   "source": [
    "import numpy as np\n",
    "import tensorflow as tf\n",
    "from tensorflow.keras.models import Sequential\n",
    "from tensorflow.keras.layers import Dense\n",
    "\n",
    "\n"
   ]
  },
  {
   "cell_type": "code",
   "execution_count": 14,
   "id": "5c9330f7",
   "metadata": {},
   "outputs": [],
   "source": [
    "# sample data\n",
    "X = np.random.rand(100,5)\n",
    "y=np.random.randint(0,2,size=(100,1))"
   ]
  },
  {
   "cell_type": "code",
   "execution_count": 17,
   "id": "e8d78fce",
   "metadata": {},
   "outputs": [],
   "source": [
    "model = Sequential([\n",
    "    Dense(16,activation='relu'),\n",
    "    Dense(8,activation='relu'),\n",
    "    Dense(1,activation='sigmoid')\n",
    "])"
   ]
  },
  {
   "cell_type": "code",
   "execution_count": 18,
   "id": "58c3a308",
   "metadata": {},
   "outputs": [],
   "source": [
    "model.compile(optimizer='adam',loss='binary_crossentropy',metrics=['accuracy'])"
   ]
  },
  {
   "cell_type": "code",
   "execution_count": 19,
   "id": "76b1bebb",
   "metadata": {},
   "outputs": [
    {
     "name": "stdout",
     "output_type": "stream",
     "text": [
      "Epoch 1/20\n",
      "WARNING:tensorflow:From C:\\Users\\acer\\anaconda3\\Lib\\site-packages\\keras\\src\\engine\\base_layer_utils.py:384: The name tf.executing_eagerly_outside_functions is deprecated. Please use tf.compat.v1.executing_eagerly_outside_functions instead.\n",
      "\n",
      "10/10 [==============================] - 1s 3ms/step - loss: 0.6925 - accuracy: 0.5000\n",
      "Epoch 2/20\n",
      "10/10 [==============================] - 0s 3ms/step - loss: 0.6915 - accuracy: 0.5700\n",
      "Epoch 3/20\n",
      "10/10 [==============================] - 0s 2ms/step - loss: 0.6912 - accuracy: 0.5500\n",
      "Epoch 4/20\n",
      "10/10 [==============================] - 0s 2ms/step - loss: 0.6906 - accuracy: 0.5800\n",
      "Epoch 5/20\n",
      "10/10 [==============================] - 0s 3ms/step - loss: 0.6902 - accuracy: 0.6000\n",
      "Epoch 6/20\n",
      "10/10 [==============================] - 0s 2ms/step - loss: 0.6897 - accuracy: 0.6000\n",
      "Epoch 7/20\n",
      "10/10 [==============================] - 0s 2ms/step - loss: 0.6893 - accuracy: 0.5800\n",
      "Epoch 8/20\n",
      "10/10 [==============================] - 0s 2ms/step - loss: 0.6889 - accuracy: 0.5800\n",
      "Epoch 9/20\n",
      "10/10 [==============================] - 0s 3ms/step - loss: 0.6885 - accuracy: 0.5700\n",
      "Epoch 10/20\n",
      "10/10 [==============================] - 0s 3ms/step - loss: 0.6878 - accuracy: 0.5900\n",
      "Epoch 11/20\n",
      "10/10 [==============================] - 0s 2ms/step - loss: 0.6872 - accuracy: 0.6000\n",
      "Epoch 12/20\n",
      "10/10 [==============================] - 0s 3ms/step - loss: 0.6866 - accuracy: 0.5900\n",
      "Epoch 13/20\n",
      "10/10 [==============================] - 0s 4ms/step - loss: 0.6859 - accuracy: 0.6000\n",
      "Epoch 14/20\n",
      "10/10 [==============================] - 0s 3ms/step - loss: 0.6853 - accuracy: 0.5900\n",
      "Epoch 15/20\n",
      "10/10 [==============================] - 0s 2ms/step - loss: 0.6847 - accuracy: 0.6000\n",
      "Epoch 16/20\n",
      "10/10 [==============================] - 0s 3ms/step - loss: 0.6839 - accuracy: 0.6100\n",
      "Epoch 17/20\n",
      "10/10 [==============================] - 0s 3ms/step - loss: 0.6833 - accuracy: 0.6100\n",
      "Epoch 18/20\n",
      "10/10 [==============================] - 0s 3ms/step - loss: 0.6828 - accuracy: 0.6000\n",
      "Epoch 19/20\n",
      "10/10 [==============================] - 0s 3ms/step - loss: 0.6821 - accuracy: 0.6000\n",
      "Epoch 20/20\n",
      "10/10 [==============================] - 0s 2ms/step - loss: 0.6823 - accuracy: 0.6100\n"
     ]
    },
    {
     "data": {
      "text/plain": [
       "<keras.src.callbacks.History at 0x2c6c6be3850>"
      ]
     },
     "execution_count": 19,
     "metadata": {},
     "output_type": "execute_result"
    }
   ],
   "source": [
    "model.fit(X,y,epochs=20,batch_size=10)\n"
   ]
  },
  {
   "cell_type": "code",
   "execution_count": 21,
   "id": "d737e9cc",
   "metadata": {},
   "outputs": [
    {
     "name": "stdout",
     "output_type": "stream",
     "text": [
      "1/1 [==============================] - 0s 20ms/step\n",
      "[[0.49570242]\n",
      " [0.5209047 ]\n",
      " [0.48667127]]\n",
      "[[0]\n",
      " [1]\n",
      " [0]]\n"
     ]
    }
   ],
   "source": [
    "\n",
    "new_data =np.random.rand(3,5)\n",
    "pred_prob=model.predict(new_data)\n",
    "pred_classes= (pred_prob>0.5).astype(int)\n",
    "print(pred_prob)\n",
    "print(pred_classes)"
   ]
  },
  {
   "cell_type": "markdown",
   "id": "b243895c",
   "metadata": {},
   "source": [
    "Multiclass Classification with Iris Dataset"
   ]
  },
  {
   "cell_type": "code",
   "execution_count": 23,
   "id": "d647e267",
   "metadata": {},
   "outputs": [],
   "source": [
    "import numpy as np\n",
    "import tensorflow as tf\n",
    "from tensorflow.keras.models import Sequential\n",
    "from tensorflow.keras.layers import Dense\n",
    "from sklearn.datasets import load_iris\n",
    "from sklearn.model_selection import train_test_split\n",
    "from sklearn.preprocessing import StandardScaler"
   ]
  },
  {
   "cell_type": "code",
   "execution_count": 28,
   "id": "673b3ea8",
   "metadata": {},
   "outputs": [],
   "source": [
    "iris = load_iris()\n",
    "X=iris.data\n",
    "y=iris.target\n",
    "\n",
    "scaler = StandardScaler()\n",
    "X=scaler.fit_transform(X)\n",
    "\n",
    "X_train,X_test,y_train,y_test = train_test_split(X,y,test_size=0.2,random_state=42)\n"
   ]
  },
  {
   "cell_type": "code",
   "execution_count": 24,
   "id": "16ac47d0",
   "metadata": {},
   "outputs": [],
   "source": [
    "model = Sequential([\n",
    "    Dense(16,activation='relu',input_shape=(4,))\n",
    "    ,\n",
    "    Dense(12,activation='relu'),\n",
    "    Dense(3,activation='softmax') #softmax used for multiclass calssification\n",
    "])"
   ]
  },
  {
   "cell_type": "code",
   "execution_count": 25,
   "id": "2fd51100",
   "metadata": {},
   "outputs": [],
   "source": [
    "model.compile(optimizer='adam',loss='sparse_categorical_crossentropy',metrics=['accuracy'])"
   ]
  },
  {
   "cell_type": "code",
   "execution_count": 29,
   "id": "c1255867",
   "metadata": {},
   "outputs": [
    {
     "name": "stdout",
     "output_type": "stream",
     "text": [
      "Epoch 1/50\n",
      "15/15 [==============================] - 1s 2ms/step - loss: 1.0402 - accuracy: 0.4417\n",
      "Epoch 2/50\n",
      "15/15 [==============================] - 0s 2ms/step - loss: 0.9721 - accuracy: 0.6000\n",
      "Epoch 3/50\n",
      "15/15 [==============================] - 0s 3ms/step - loss: 0.9107 - accuracy: 0.6583\n",
      "Epoch 4/50\n",
      "15/15 [==============================] - 0s 2ms/step - loss: 0.8537 - accuracy: 0.6667\n",
      "Epoch 5/50\n",
      "15/15 [==============================] - 0s 2ms/step - loss: 0.7949 - accuracy: 0.6667\n",
      "Epoch 6/50\n",
      "15/15 [==============================] - 0s 2ms/step - loss: 0.7363 - accuracy: 0.6833\n",
      "Epoch 7/50\n",
      "15/15 [==============================] - 0s 2ms/step - loss: 0.6766 - accuracy: 0.7083\n",
      "Epoch 8/50\n",
      "15/15 [==============================] - 0s 2ms/step - loss: 0.6142 - accuracy: 0.7750\n",
      "Epoch 9/50\n",
      "15/15 [==============================] - 0s 2ms/step - loss: 0.5596 - accuracy: 0.7917\n",
      "Epoch 10/50\n",
      "15/15 [==============================] - 0s 2ms/step - loss: 0.5109 - accuracy: 0.8000\n",
      "Epoch 11/50\n",
      "15/15 [==============================] - 0s 2ms/step - loss: 0.4746 - accuracy: 0.8000\n",
      "Epoch 12/50\n",
      "15/15 [==============================] - 0s 2ms/step - loss: 0.4447 - accuracy: 0.8083\n",
      "Epoch 13/50\n",
      "15/15 [==============================] - 0s 3ms/step - loss: 0.4220 - accuracy: 0.8167\n",
      "Epoch 14/50\n",
      "15/15 [==============================] - 0s 2ms/step - loss: 0.4020 - accuracy: 0.8167\n",
      "Epoch 15/50\n",
      "15/15 [==============================] - 0s 2ms/step - loss: 0.3862 - accuracy: 0.8083\n",
      "Epoch 16/50\n",
      "15/15 [==============================] - 0s 2ms/step - loss: 0.3686 - accuracy: 0.8250\n",
      "Epoch 17/50\n",
      "15/15 [==============================] - 0s 3ms/step - loss: 0.3491 - accuracy: 0.8250\n",
      "Epoch 18/50\n",
      "15/15 [==============================] - 0s 2ms/step - loss: 0.3357 - accuracy: 0.8333\n",
      "Epoch 19/50\n",
      "15/15 [==============================] - 0s 2ms/step - loss: 0.3235 - accuracy: 0.8417\n",
      "Epoch 20/50\n",
      "15/15 [==============================] - 0s 2ms/step - loss: 0.3113 - accuracy: 0.8417\n",
      "Epoch 21/50\n",
      "15/15 [==============================] - 0s 1ms/step - loss: 0.2995 - accuracy: 0.8500\n",
      "Epoch 22/50\n",
      "15/15 [==============================] - 0s 1ms/step - loss: 0.2895 - accuracy: 0.8667\n",
      "Epoch 23/50\n",
      "15/15 [==============================] - 0s 2ms/step - loss: 0.2807 - accuracy: 0.8667\n",
      "Epoch 24/50\n",
      "15/15 [==============================] - 0s 2ms/step - loss: 0.2691 - accuracy: 0.8750\n",
      "Epoch 25/50\n",
      "15/15 [==============================] - 0s 2ms/step - loss: 0.2588 - accuracy: 0.8750\n",
      "Epoch 26/50\n",
      "15/15 [==============================] - 0s 2ms/step - loss: 0.2497 - accuracy: 0.8833\n",
      "Epoch 27/50\n",
      "15/15 [==============================] - 0s 2ms/step - loss: 0.2399 - accuracy: 0.8917\n",
      "Epoch 28/50\n",
      "15/15 [==============================] - 0s 3ms/step - loss: 0.2310 - accuracy: 0.9083\n",
      "Epoch 29/50\n",
      "15/15 [==============================] - 0s 3ms/step - loss: 0.2227 - accuracy: 0.9167\n",
      "Epoch 30/50\n",
      "15/15 [==============================] - 0s 2ms/step - loss: 0.2131 - accuracy: 0.9167\n",
      "Epoch 31/50\n",
      "15/15 [==============================] - 0s 2ms/step - loss: 0.2054 - accuracy: 0.9167\n",
      "Epoch 32/50\n",
      "15/15 [==============================] - 0s 1ms/step - loss: 0.1960 - accuracy: 0.9417\n",
      "Epoch 33/50\n",
      "15/15 [==============================] - 0s 2ms/step - loss: 0.1870 - accuracy: 0.9417\n",
      "Epoch 34/50\n",
      "15/15 [==============================] - 0s 2ms/step - loss: 0.1774 - accuracy: 0.9417\n",
      "Epoch 35/50\n",
      "15/15 [==============================] - 0s 2ms/step - loss: 0.1693 - accuracy: 0.9500\n",
      "Epoch 36/50\n",
      "15/15 [==============================] - 0s 3ms/step - loss: 0.1613 - accuracy: 0.9500\n",
      "Epoch 37/50\n",
      "15/15 [==============================] - 0s 2ms/step - loss: 0.1539 - accuracy: 0.9417\n",
      "Epoch 38/50\n",
      "15/15 [==============================] - 0s 2ms/step - loss: 0.1457 - accuracy: 0.9500\n",
      "Epoch 39/50\n",
      "15/15 [==============================] - 0s 3ms/step - loss: 0.1440 - accuracy: 0.9417\n",
      "Epoch 40/50\n",
      "15/15 [==============================] - 0s 2ms/step - loss: 0.1309 - accuracy: 0.9500\n",
      "Epoch 41/50\n",
      "15/15 [==============================] - 0s 2ms/step - loss: 0.1264 - accuracy: 0.9667\n",
      "Epoch 42/50\n",
      "15/15 [==============================] - 0s 2ms/step - loss: 0.1226 - accuracy: 0.9500\n",
      "Epoch 43/50\n",
      "15/15 [==============================] - 0s 2ms/step - loss: 0.1145 - accuracy: 0.9583\n",
      "Epoch 44/50\n",
      "15/15 [==============================] - 0s 2ms/step - loss: 0.1109 - accuracy: 0.9583\n",
      "Epoch 45/50\n",
      "15/15 [==============================] - 0s 2ms/step - loss: 0.1074 - accuracy: 0.9500\n",
      "Epoch 46/50\n",
      "15/15 [==============================] - 0s 3ms/step - loss: 0.1037 - accuracy: 0.9500\n",
      "Epoch 47/50\n",
      "15/15 [==============================] - 0s 2ms/step - loss: 0.1001 - accuracy: 0.9750\n",
      "Epoch 48/50\n",
      "15/15 [==============================] - 0s 2ms/step - loss: 0.0988 - accuracy: 0.9667\n",
      "Epoch 49/50\n",
      "15/15 [==============================] - 0s 3ms/step - loss: 0.0951 - accuracy: 0.9667\n",
      "Epoch 50/50\n",
      "15/15 [==============================] - 0s 2ms/step - loss: 0.0930 - accuracy: 0.9667\n"
     ]
    },
    {
     "data": {
      "text/plain": [
       "<keras.src.callbacks.History at 0x2c6cb2dd5d0>"
      ]
     },
     "execution_count": 29,
     "metadata": {},
     "output_type": "execute_result"
    }
   ],
   "source": [
    "model.fit(X_train,y_train,epochs=50,batch_size=8)"
   ]
  },
  {
   "cell_type": "code",
   "execution_count": 30,
   "id": "122e46b6",
   "metadata": {},
   "outputs": [
    {
     "name": "stdout",
     "output_type": "stream",
     "text": [
      "1/1 [==============================] - 0s 140ms/step - loss: 0.0802 - accuracy: 1.0000\n",
      "1.0\n"
     ]
    }
   ],
   "source": [
    "loss,accuracy = model.evaluate(X_test,y_test)\n",
    "print(accuracy)"
   ]
  },
  {
   "cell_type": "code",
   "execution_count": 31,
   "id": "1fea4541",
   "metadata": {},
   "outputs": [
    {
     "name": "stdout",
     "output_type": "stream",
     "text": [
      "1/1 [==============================] - 0s 50ms/step\n",
      "Predicted Class Indices: [0 2]\n",
      "Predicted Class Labels: ['setosa', 'virginica']\n"
     ]
    }
   ],
   "source": [
    "new_samples = np.array([[5.1, 3.5, 1.4, 0.2],   # Likely Setosa\n",
    "                        [6.5, 3.0, 5.5, 1.8]])  # Likely Virginica\n",
    "new_samples = scaler.transform(new_samples)    # Don't forget to scale\n",
    "\n",
    "pred_probs = model.predict(new_samples)\n",
    "pred_classes = np.argmax(pred_probs, axis=1)\n",
    "\n",
    "print(\"Predicted Class Indices:\", pred_classes)\n",
    "print(\"Predicted Class Labels:\", [iris.target_names[i] for i in pred_classes])\n"
   ]
  },
  {
   "cell_type": "markdown",
   "id": "903356b1",
   "metadata": {},
   "source": [
    "Wine Dataset"
   ]
  },
  {
   "cell_type": "code",
   "execution_count": 5,
   "id": "7135fa2b",
   "metadata": {},
   "outputs": [],
   "source": [
    "from sklearn.datasets import load_wine\n",
    "import tensorflow as tf\n",
    "from tensorflow.keras.models import Sequential\n",
    "from tensorflow.keras.layers import Dense\n",
    "from sklearn.preprocessing import StandardScaler\n",
    "from sklearn.model_selection import train_test_split"
   ]
  },
  {
   "cell_type": "code",
   "execution_count": 13,
   "id": "400719f3",
   "metadata": {},
   "outputs": [
    {
     "name": "stdout",
     "output_type": "stream",
     "text": [
      "[[1.423e+01 1.710e+00 2.430e+00 ... 1.040e+00 3.920e+00 1.065e+03]\n",
      " [1.320e+01 1.780e+00 2.140e+00 ... 1.050e+00 3.400e+00 1.050e+03]\n",
      " [1.316e+01 2.360e+00 2.670e+00 ... 1.030e+00 3.170e+00 1.185e+03]\n",
      " ...\n",
      " [1.327e+01 4.280e+00 2.260e+00 ... 5.900e-01 1.560e+00 8.350e+02]\n",
      " [1.317e+01 2.590e+00 2.370e+00 ... 6.000e-01 1.620e+00 8.400e+02]\n",
      " [1.413e+01 4.100e+00 2.740e+00 ... 6.100e-01 1.600e+00 5.600e+02]]\n"
     ]
    }
   ],
   "source": [
    "wine=load_wine()\n",
    "X=wine.data\n",
    "y=wine.target\n",
    "print(X)\n",
    "X=StandardScaler().fit_transform(X)\n",
    "X_train,X_test,y_train,y_test = train_test_split(X,y,test_size=0.2,random_state=42)"
   ]
  },
  {
   "cell_type": "code",
   "execution_count": 7,
   "id": "108ca7e2",
   "metadata": {},
   "outputs": [
    {
     "name": "stdout",
     "output_type": "stream",
     "text": [
      "WARNING:tensorflow:From C:\\Users\\acer\\anaconda3\\Lib\\site-packages\\keras\\src\\backend.py:873: The name tf.get_default_graph is deprecated. Please use tf.compat.v1.get_default_graph instead.\n",
      "\n"
     ]
    }
   ],
   "source": [
    "model =Sequential([\n",
    "    Dense(16,activation='relu'),`b\n",
    "    Dense(8,activation='relu'),\n",
    "    Dense(3,activation='softmax')\n",
    "])"
   ]
  },
  {
   "cell_type": "code",
   "execution_count": 8,
   "id": "7a961f35",
   "metadata": {},
   "outputs": [
    {
     "name": "stdout",
     "output_type": "stream",
     "text": [
      "WARNING:tensorflow:From C:\\Users\\acer\\anaconda3\\Lib\\site-packages\\keras\\src\\optimizers\\__init__.py:309: The name tf.train.Optimizer is deprecated. Please use tf.compat.v1.train.Optimizer instead.\n",
      "\n"
     ]
    }
   ],
   "source": [
    "model.compile(optimizer='adam',loss='sparse_categorical_crossentropy',metrics=['accuracy'])\n"
   ]
  },
  {
   "cell_type": "code",
   "execution_count": 10,
   "id": "6ecfe314",
   "metadata": {},
   "outputs": [
    {
     "name": "stdout",
     "output_type": "stream",
     "text": [
      "Epoch 1/50\n",
      "WARNING:tensorflow:From C:\\Users\\acer\\anaconda3\\Lib\\site-packages\\keras\\src\\utils\\tf_utils.py:492: The name tf.ragged.RaggedTensorValue is deprecated. Please use tf.compat.v1.ragged.RaggedTensorValue instead.\n",
      "\n",
      "WARNING:tensorflow:From C:\\Users\\acer\\anaconda3\\Lib\\site-packages\\keras\\src\\engine\\base_layer_utils.py:384: The name tf.executing_eagerly_outside_functions is deprecated. Please use tf.compat.v1.executing_eagerly_outside_functions instead.\n",
      "\n",
      "18/18 [==============================] - 1s 3ms/step - loss: 0.8981 - accuracy: 0.6127\n",
      "Epoch 2/50\n",
      "18/18 [==============================] - 0s 2ms/step - loss: 0.7812 - accuracy: 0.7394\n",
      "Epoch 3/50\n",
      "18/18 [==============================] - 0s 3ms/step - loss: 0.6851 - accuracy: 0.8099\n",
      "Epoch 4/50\n",
      "18/18 [==============================] - 0s 2ms/step - loss: 0.6032 - accuracy: 0.8451\n",
      "Epoch 5/50\n",
      "18/18 [==============================] - 0s 3ms/step - loss: 0.5371 - accuracy: 0.8944\n",
      "Epoch 6/50\n",
      "18/18 [==============================] - 0s 3ms/step - loss: 0.4777 - accuracy: 0.9155\n",
      "Epoch 7/50\n",
      "18/18 [==============================] - 0s 3ms/step - loss: 0.4206 - accuracy: 0.9225\n",
      "Epoch 8/50\n",
      "18/18 [==============================] - 0s 3ms/step - loss: 0.3667 - accuracy: 0.9225\n",
      "Epoch 9/50\n",
      "18/18 [==============================] - 0s 2ms/step - loss: 0.3161 - accuracy: 0.9507\n",
      "Epoch 10/50\n",
      "18/18 [==============================] - 0s 4ms/step - loss: 0.2734 - accuracy: 0.9577\n",
      "Epoch 11/50\n",
      "18/18 [==============================] - 0s 3ms/step - loss: 0.2353 - accuracy: 0.9718\n",
      "Epoch 12/50\n",
      "18/18 [==============================] - 0s 4ms/step - loss: 0.2024 - accuracy: 0.9718\n",
      "Epoch 13/50\n",
      "18/18 [==============================] - 0s 2ms/step - loss: 0.1750 - accuracy: 0.9859\n",
      "Epoch 14/50\n",
      "18/18 [==============================] - 0s 2ms/step - loss: 0.1525 - accuracy: 0.9859\n",
      "Epoch 15/50\n",
      "18/18 [==============================] - 0s 2ms/step - loss: 0.1332 - accuracy: 0.9859\n",
      "Epoch 16/50\n",
      "18/18 [==============================] - 0s 3ms/step - loss: 0.1176 - accuracy: 0.9859\n",
      "Epoch 17/50\n",
      "18/18 [==============================] - 0s 3ms/step - loss: 0.1051 - accuracy: 0.9859\n",
      "Epoch 18/50\n",
      "18/18 [==============================] - 0s 3ms/step - loss: 0.0935 - accuracy: 0.9859\n",
      "Epoch 19/50\n",
      "18/18 [==============================] - 0s 2ms/step - loss: 0.0843 - accuracy: 0.9859\n",
      "Epoch 20/50\n",
      "18/18 [==============================] - 0s 2ms/step - loss: 0.0761 - accuracy: 0.9859\n",
      "Epoch 21/50\n",
      "18/18 [==============================] - 0s 2ms/step - loss: 0.0689 - accuracy: 0.9859\n",
      "Epoch 22/50\n",
      "18/18 [==============================] - 0s 2ms/step - loss: 0.0632 - accuracy: 0.9930\n",
      "Epoch 23/50\n",
      "18/18 [==============================] - 0s 2ms/step - loss: 0.0578 - accuracy: 0.9930\n",
      "Epoch 24/50\n",
      "18/18 [==============================] - 0s 2ms/step - loss: 0.0538 - accuracy: 0.9930\n",
      "Epoch 25/50\n",
      "18/18 [==============================] - 0s 2ms/step - loss: 0.0501 - accuracy: 0.9930\n",
      "Epoch 26/50\n",
      "18/18 [==============================] - 0s 2ms/step - loss: 0.0460 - accuracy: 0.9930\n",
      "Epoch 27/50\n",
      "18/18 [==============================] - 0s 2ms/step - loss: 0.0431 - accuracy: 0.9930\n",
      "Epoch 28/50\n",
      "18/18 [==============================] - 0s 3ms/step - loss: 0.0405 - accuracy: 0.9930\n",
      "Epoch 29/50\n",
      "18/18 [==============================] - 0s 3ms/step - loss: 0.0376 - accuracy: 0.9930\n",
      "Epoch 30/50\n",
      "18/18 [==============================] - 0s 3ms/step - loss: 0.0351 - accuracy: 1.0000\n",
      "Epoch 31/50\n",
      "18/18 [==============================] - 0s 2ms/step - loss: 0.0323 - accuracy: 1.0000\n",
      "Epoch 32/50\n",
      "18/18 [==============================] - 0s 2ms/step - loss: 0.0306 - accuracy: 1.0000\n",
      "Epoch 33/50\n",
      "18/18 [==============================] - 0s 3ms/step - loss: 0.0283 - accuracy: 1.0000\n",
      "Epoch 34/50\n",
      "18/18 [==============================] - 0s 1ms/step - loss: 0.0267 - accuracy: 1.0000\n",
      "Epoch 35/50\n",
      "18/18 [==============================] - 0s 2ms/step - loss: 0.0249 - accuracy: 1.0000\n",
      "Epoch 36/50\n",
      "18/18 [==============================] - 0s 2ms/step - loss: 0.0235 - accuracy: 1.0000\n",
      "Epoch 37/50\n",
      "18/18 [==============================] - 0s 2ms/step - loss: 0.0221 - accuracy: 1.0000\n",
      "Epoch 38/50\n",
      "18/18 [==============================] - 0s 2ms/step - loss: 0.0211 - accuracy: 1.0000\n",
      "Epoch 39/50\n",
      "18/18 [==============================] - 0s 2ms/step - loss: 0.0198 - accuracy: 1.0000\n",
      "Epoch 40/50\n",
      "18/18 [==============================] - 0s 2ms/step - loss: 0.0187 - accuracy: 1.0000\n",
      "Epoch 41/50\n",
      "18/18 [==============================] - 0s 2ms/step - loss: 0.0178 - accuracy: 1.0000\n",
      "Epoch 42/50\n",
      "18/18 [==============================] - 0s 3ms/step - loss: 0.0168 - accuracy: 1.0000\n",
      "Epoch 43/50\n",
      "18/18 [==============================] - 0s 2ms/step - loss: 0.0160 - accuracy: 1.0000\n",
      "Epoch 44/50\n",
      "18/18 [==============================] - 0s 3ms/step - loss: 0.0151 - accuracy: 1.0000\n",
      "Epoch 45/50\n",
      "18/18 [==============================] - 0s 2ms/step - loss: 0.0145 - accuracy: 1.0000\n",
      "Epoch 46/50\n",
      "18/18 [==============================] - 0s 2ms/step - loss: 0.0136 - accuracy: 1.0000\n",
      "Epoch 47/50\n",
      "18/18 [==============================] - 0s 2ms/step - loss: 0.0131 - accuracy: 1.0000\n",
      "Epoch 48/50\n",
      "18/18 [==============================] - 0s 2ms/step - loss: 0.0124 - accuracy: 1.0000\n",
      "Epoch 49/50\n",
      "18/18 [==============================] - 0s 3ms/step - loss: 0.0119 - accuracy: 1.0000\n",
      "Epoch 50/50\n",
      "18/18 [==============================] - 0s 2ms/step - loss: 0.0113 - accuracy: 1.0000\n"
     ]
    },
    {
     "data": {
      "text/plain": [
       "<keras.src.callbacks.History at 0x177f51ac310>"
      ]
     },
     "execution_count": 10,
     "metadata": {},
     "output_type": "execute_result"
    }
   ],
   "source": [
    "model.fit(X_train,y_train,epochs=50,batch_size=8)"
   ]
  },
  {
   "cell_type": "code",
   "execution_count": 12,
   "id": "a6cac112",
   "metadata": {},
   "outputs": [
    {
     "name": "stdout",
     "output_type": "stream",
     "text": [
      "2/2 [==============================] - 0s 4ms/step - loss: 0.0043 - accuracy: 1.0000\n",
      "1.0\n"
     ]
    }
   ],
   "source": [
    "loss,acc=model.evaluate(X_test,y_test)\n",
    "print(acc)"
   ]
  },
  {
   "cell_type": "markdown",
   "id": "304a20df",
   "metadata": {},
   "source": [
    "Convolutional Neural Network"
   ]
  },
  {
   "cell_type": "markdown",
   "id": "69b51ffc",
   "metadata": {},
   "source": [
    "CNN for Image Classification(MNIST)"
   ]
  },
  {
   "cell_type": "code",
   "execution_count": 14,
   "id": "8a8d24ff",
   "metadata": {},
   "outputs": [],
   "source": [
    "import tensorflow as tf\n",
    "from tensorflow.keras.models import Sequential\n",
    "from tensorflow.keras.layers import Conv2D,MaxPooling2D,Flatten,Dense\n",
    "from tensorflow.keras.datasets import mnist\n",
    "from tensorflow.keras.utils import to_categorical"
   ]
  },
  {
   "cell_type": "code",
   "execution_count": 16,
   "id": "54a59693",
   "metadata": {},
   "outputs": [],
   "source": [
    "(X_train,y_train),(X_test,y_test) = mnist.load_data()\n",
    "\n",
    "X_train = X_train.reshape(-1,28,28,1)/255.0\n",
    "X_test = X_test.reshape(-1,28,28,1)/255.0\n",
    "\n",
    "y_train_cat = to_categorical(y_train)\n",
    "y_test_cat = to_categorical(y_test)"
   ]
  },
  {
   "cell_type": "code",
   "execution_count": null,
   "id": "24a6fdf1",
   "metadata": {},
   "outputs": [],
   "source": []
  },
  {
   "cell_type": "code",
   "execution_count": 19,
   "id": "038e4da3",
   "metadata": {},
   "outputs": [
    {
     "name": "stdout",
     "output_type": "stream",
     "text": [
      "WARNING:tensorflow:From C:\\Users\\acer\\anaconda3\\Lib\\site-packages\\keras\\src\\layers\\pooling\\max_pooling2d.py:161: The name tf.nn.max_pool is deprecated. Please use tf.nn.max_pool2d instead.\n",
      "\n"
     ]
    }
   ],
   "source": [
    "model = Sequential([\n",
    "    Conv2D(32,(3,3),activation='relu',input_shape=(28,28,1)),\n",
    "    MaxPooling2D((2,2)),\n",
    "    \n",
    "    Conv2D(64,(3,3),activation='relu'),\n",
    "    MaxPooling2D((2,2)),\n",
    "    \n",
    "    Flatten(),\n",
    "    Dense(64,activation='relu'),\n",
    "    Dense(10,activation='softmax')\n",
    "])"
   ]
  },
  {
   "cell_type": "code",
   "execution_count": 20,
   "id": "b88f90c5",
   "metadata": {},
   "outputs": [],
   "source": [
    "model.compile(optimizer='adam',loss='categorical_crossentropy',metrics=['accuracy'])"
   ]
  },
  {
   "cell_type": "code",
   "execution_count": 27,
   "id": "4c572fea",
   "metadata": {},
   "outputs": [
    {
     "name": "stdout",
     "output_type": "stream",
     "text": [
      "Epoch 1/5\n",
      "10/10 [==============================] - 0s 7ms/step - loss: 0.0019 - accuracy: 1.0000\n",
      "Epoch 2/5\n",
      "10/10 [==============================] - 0s 8ms/step - loss: 9.6721e-04 - accuracy: 1.0000\n",
      "Epoch 3/5\n",
      "10/10 [==============================] - 0s 7ms/step - loss: 4.8538e-04 - accuracy: 1.0000\n",
      "Epoch 4/5\n",
      "10/10 [==============================] - 0s 6ms/step - loss: 3.1682e-04 - accuracy: 1.0000\n",
      "Epoch 5/5\n",
      "10/10 [==============================] - 0s 6ms/step - loss: 2.4345e-04 - accuracy: 1.0000\n"
     ]
    },
    {
     "data": {
      "text/plain": [
       "<keras.src.callbacks.History at 0x177fbc560d0>"
      ]
     },
     "execution_count": 27,
     "metadata": {},
     "output_type": "execute_result"
    }
   ],
   "source": [
    "model.fit(X_train[:100],y_train_cat[:100],epochs=5,batch_size=10)"
   ]
  },
  {
   "cell_type": "code",
   "execution_count": 28,
   "id": "9b6efc4e",
   "metadata": {},
   "outputs": [
    {
     "name": "stdout",
     "output_type": "stream",
     "text": [
      "313/313 [==============================] - 1s 3ms/step - loss: 0.0316 - accuracy: 0.9907\n",
      "0.9907000064849854\n"
     ]
    }
   ],
   "source": [
    "loss,acc = model.evaluate(X_test,y_test_cat)\n",
    "print(acc)"
   ]
  },
  {
   "cell_type": "markdown",
   "id": "7f60ef36",
   "metadata": {},
   "source": [
    "Sentiment Classification(Binary Classification) RNN"
   ]
  },
  {
   "cell_type": "code",
   "execution_count": 32,
   "id": "ff2004c2",
   "metadata": {},
   "outputs": [],
   "source": [
    "import tensorflow as tf\n",
    "from tensorflow.keras.models import Sequential\n",
    "from tensorflow.keras.layers import Embedding,SimpleRNN,Dense\n",
    "from tensorflow.keras.datasets import imdb\n",
    "from tensorflow.keras.preprocessing.sequence import pad_sequences"
   ]
  },
  {
   "cell_type": "code",
   "execution_count": 34,
   "id": "ae2dbd27",
   "metadata": {},
   "outputs": [
    {
     "name": "stdout",
     "output_type": "stream",
     "text": [
      "Downloading data from https://storage.googleapis.com/tensorflow/tf-keras-datasets/imdb.npz\n",
      "17464789/17464789 [==============================] - 3s 0us/step\n"
     ]
    }
   ],
   "source": [
    "num_words= 10000 #load top 10000 frequent words\n",
    "(X_train,y_train),(X_test,y_test) = imdb.load_data(num_words=num_words)\n",
    "\n",
    "# pad sequences to equal length\n",
    "maxlen = 200\n",
    "X_train = pad_sequences(X_train,maxlen=maxlen)\n",
    "X_test = pad_sequences(X_test,maxlen=maxlen)\n"
   ]
  },
  {
   "cell_type": "code",
   "execution_count": null,
   "id": "5632902e",
   "metadata": {},
   "outputs": [],
   "source": []
  },
  {
   "cell_type": "code",
   "execution_count": 36,
   "id": "ca4ff4e9",
   "metadata": {},
   "outputs": [],
   "source": [
    "# BUild RNN MOdel\n",
    "\n",
    "model = Sequential([\n",
    "    Embedding(input_dim=num_words,output_dim=32,input_length=maxlen),\n",
    "    SimpleRNN(32),\n",
    "    Dense(1,activation='sigmoid')\n",
    "])"
   ]
  },
  {
   "cell_type": "code",
   "execution_count": 37,
   "id": "dcfe152f",
   "metadata": {},
   "outputs": [
    {
     "name": "stdout",
     "output_type": "stream",
     "text": [
      "Epoch 1/5\n",
      "313/313 [==============================] - 11s 32ms/step - loss: 0.5570 - accuracy: 0.7003 - val_loss: 0.3840 - val_accuracy: 0.8338\n",
      "Epoch 2/5\n",
      "313/313 [==============================] - 10s 31ms/step - loss: 0.3593 - accuracy: 0.8480 - val_loss: 0.3985 - val_accuracy: 0.8264\n",
      "Epoch 3/5\n",
      "313/313 [==============================] - 10s 31ms/step - loss: 0.2508 - accuracy: 0.9053 - val_loss: 0.3851 - val_accuracy: 0.8536\n",
      "Epoch 4/5\n",
      "313/313 [==============================] - 10s 31ms/step - loss: 0.1744 - accuracy: 0.9370 - val_loss: 0.4051 - val_accuracy: 0.8452\n",
      "Epoch 5/5\n",
      "313/313 [==============================] - 9s 30ms/step - loss: 0.1040 - accuracy: 0.9646 - val_loss: 0.4684 - val_accuracy: 0.8382\n"
     ]
    },
    {
     "data": {
      "text/plain": [
       "<keras.src.callbacks.History at 0x1779fb13090>"
      ]
     },
     "execution_count": 37,
     "metadata": {},
     "output_type": "execute_result"
    }
   ],
   "source": [
    "# compile and train\n",
    "model.compile(optimizer='adam',loss='binary_crossentropy',metrics=['accuracy'])\n",
    "\n",
    "model.fit(X_train,y_train,epochs=5,batch_size=64,validation_split=0.2)"
   ]
  },
  {
   "cell_type": "code",
   "execution_count": 38,
   "id": "3388fe66",
   "metadata": {},
   "outputs": [
    {
     "name": "stdout",
     "output_type": "stream",
     "text": [
      "782/782 [==============================] - 5s 6ms/step - loss: 0.4775 - accuracy: 0.8317\n",
      "0.8316799998283386\n"
     ]
    }
   ],
   "source": [
    "loss,acc = model.evaluate(X_test,y_test)\n",
    "print(acc)"
   ]
  },
  {
   "cell_type": "markdown",
   "id": "0bfbc5b3",
   "metadata": {},
   "source": [
    "Embedding layer converts word indices to dense vectors.\n",
    "\n",
    "SimpleRNN processes the sequence.\n",
    "\n",
    "For better performance, we can use LSTM or GRU, which are advanced RNN variants that handle long-term dependencies."
   ]
  },
  {
   "cell_type": "code",
   "execution_count": 41,
   "id": "4dec3b29",
   "metadata": {},
   "outputs": [
    {
     "name": "stdout",
     "output_type": "stream",
     "text": [
      "Downloading data from https://storage.googleapis.com/tensorflow/tf-keras-datasets/imdb_word_index.json\n",
      "1641221/1641221 [==============================] - 1s 1us/step\n"
     ]
    }
   ],
   "source": [
    "# test with new data\n",
    "\n",
    "word_index =imdb.get_word_index()\n",
    "\n",
    "# Invert it to get word -> index mapping\n",
    "word_to_id = {k: (v + 3) for k, v in word_index.items()}\n",
    "word_to_id[\"<PAD>\"] = 0\n",
    "word_to_id[\"<START>\"] = 1\n",
    "word_to_id[\"<UNK>\"] = 2\n",
    "word_to_id[\"<UNUSED>\"] = 3"
   ]
  },
  {
   "cell_type": "code",
   "execution_count": 45,
   "id": "2e806129",
   "metadata": {},
   "outputs": [],
   "source": [
    "# Convert New Text to Index Sequence\n",
    "def encode_review(text):\n",
    "    tokens = text.lower().split()\n",
    "    return [1] + [word_to_id.get(word, 2) for word in tokens]  # 1 = <START>, 2 = <UNK>\n",
    "\n",
    "# Example new review\n",
    "new_review = \"The movie was boring\"\n",
    "encoded = encode_review(new_review)\n",
    "\n",
    "# Pad to the same length as training data (e.g., 200)\n",
    "padded = pad_sequences([encoded], maxlen=200)\n"
   ]
  },
  {
   "cell_type": "code",
   "execution_count": 46,
   "id": "fa6449c6",
   "metadata": {},
   "outputs": [
    {
     "name": "stdout",
     "output_type": "stream",
     "text": [
      "1/1 [==============================] - 0s 26ms/step\n",
      "[[0.0581688]]\n",
      "Negative Sentiment\n"
     ]
    }
   ],
   "source": [
    "prediction = model.predict(padded)\n",
    "print(prediction)\n",
    "# Interpret result\n",
    "if prediction[0] > 0.5:\n",
    "    print(\"Positive Sentiment\")\n",
    "else:\n",
    "    print(\"Negative Sentiment\")"
   ]
  }
 ],
 "metadata": {
  "kernelspec": {
   "display_name": "Python 3 (ipykernel)",
   "language": "python",
   "name": "python3"
  },
  "language_info": {
   "codemirror_mode": {
    "name": "ipython",
    "version": 3
   },
   "file_extension": ".py",
   "mimetype": "text/x-python",
   "name": "python",
   "nbconvert_exporter": "python",
   "pygments_lexer": "ipython3",
   "version": "3.11.5"
  }
 },
 "nbformat": 4,
 "nbformat_minor": 5
}
